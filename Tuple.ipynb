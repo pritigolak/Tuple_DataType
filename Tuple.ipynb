{
 "cells": [
  {
   "cell_type": "markdown",
   "id": "22712878-b772-4a0d-9354-4f2b69216020",
   "metadata": {},
   "source": [
    "# Tuple in Python :"
   ]
  },
  {
   "cell_type": "code",
   "execution_count": 2,
   "id": "21526908-be9d-4680-bb5d-0771351d3771",
   "metadata": {},
   "outputs": [],
   "source": [
    "# A tuple is a ordered , immutable collection of elements in python.\n",
    "# Tuples are similar to lists, but unlike lists, they cannot be momdified once created.\n",
    "# Tuple using parentheses and support indexing , slicing, concatenation, and tuple unpacking."
   ]
  },
  {
   "cell_type": "code",
   "execution_count": 6,
   "id": "303e05be-0626-47cd-8162-27ffd663a642",
   "metadata": {},
   "outputs": [
    {
     "data": {
      "text/plain": [
       "(10, 20, 30, 40)"
      ]
     },
     "execution_count": 6,
     "metadata": {},
     "output_type": "execute_result"
    }
   ],
   "source": [
    "# Create a tuple :\n",
    "tuple1 = (10,20,30,40)\n",
    "tuple1"
   ]
  },
  {
   "cell_type": "code",
   "execution_count": 24,
   "id": "e8ffc31f-a043-4f50-8fca-2a7a77dcdecb",
   "metadata": {},
   "outputs": [
    {
     "data": {
      "text/plain": [
       "30"
      ]
     },
     "execution_count": 24,
     "metadata": {},
     "output_type": "execute_result"
    }
   ],
   "source": [
    "# To check tuple indexing :\n",
    "\n",
    "tuple1 = (10,20,30,40)\n",
    "tuple1[2]"
   ]
  },
  {
   "cell_type": "code",
   "execution_count": 28,
   "id": "4dcb3544-f87d-41c4-8955-5c5bf9fefac3",
   "metadata": {},
   "outputs": [
    {
     "name": "stdout",
     "output_type": "stream",
     "text": [
      "(1, 2, 3, 4, 5, 'a', 'b', 'c')\n"
     ]
    }
   ],
   "source": [
    "# Tuple concatination :\n",
    "\n",
    "tuple2 = (1,2,3,4,5)\n",
    "tuple3 = ('a','b','c')\n",
    "con_tup = tuple2 + tuple3\n",
    "print(con_tup)"
   ]
  },
  {
   "cell_type": "markdown",
   "id": "9f0997e0-f298-4071-8737-9bbae4f4065c",
   "metadata": {},
   "source": [
    "# Tuple methods :"
   ]
  },
  {
   "cell_type": "code",
   "execution_count": 37,
   "id": "d3f897c8-b801-4506-bc62-1e423f19f703",
   "metadata": {},
   "outputs": [
    {
     "name": "stdout",
     "output_type": "stream",
     "text": [
      "2\n",
      "1\n",
      "3\n"
     ]
    }
   ],
   "source": [
    "# count()\t\n",
    "# Count occurrences of a value in the tuple.\n",
    "# For example ,\n",
    "\n",
    "T = (1, 2, 2, 3, 5, 4, 5, 1, 5)\n",
    "print(T.count(2))\n",
    "print(T.count(3))\n",
    "print(T.count(5))"
   ]
  },
  {
   "cell_type": "code",
   "execution_count": 39,
   "id": "98f93bfb-dff6-411c-9089-4399ecd44d40",
   "metadata": {},
   "outputs": [
    {
     "name": "stdout",
     "output_type": "stream",
     "text": [
      "3\n"
     ]
    }
   ],
   "source": [
    "# index()\t\n",
    "# Return index of first occurrence of a value.\n",
    "# For example ,\n",
    "\n",
    "T = (10, 20, 30, 40, 50, 20)\n",
    "print(T.index(40))"
   ]
  },
  {
   "cell_type": "markdown",
   "id": "ef216ac5-8922-461e-afdb-057a87e3dc79",
   "metadata": {},
   "source": [
    "# Oprations of Tuple :"
   ]
  },
  {
   "cell_type": "code",
   "execution_count": 42,
   "id": "72ff7876-58da-4d64-bcde-08c3051daa7a",
   "metadata": {},
   "outputs": [
    {
     "name": "stdout",
     "output_type": "stream",
     "text": [
      "6\n"
     ]
    }
   ],
   "source": [
    "# Access elements :\n",
    "# For example ,\n",
    "\n",
    "t = (1, 2, 3, 4, 5, 6, 7, 8, 9)\n",
    "print(t[5])"
   ]
  },
  {
   "cell_type": "code",
   "execution_count": 44,
   "id": "2d20e2e5-6465-46fc-b061-4aa05e29d4a0",
   "metadata": {},
   "outputs": [
    {
     "name": "stdout",
     "output_type": "stream",
     "text": [
      "(6, 7, 8, 9)\n"
     ]
    }
   ],
   "source": [
    "# Slicing :\n",
    "# For example ,\n",
    "\n",
    "t = (1, 2, 3, 4, 5, 6, 7, 8, 9)\n",
    "print(t[5:]) "
   ]
  },
  {
   "cell_type": "code",
   "execution_count": 46,
   "id": "5859e5ad-f375-424f-82d7-6c1b3fb65c57",
   "metadata": {},
   "outputs": [
    {
     "name": "stdout",
     "output_type": "stream",
     "text": [
      "(1, 2, 3, 4, 5, 6, 7, 8, 9, 1, 2, 3, 4, 5, 6, 7, 8, 9, 1, 2, 3, 4, 5, 6, 7, 8, 9)\n"
     ]
    }
   ],
   "source": [
    "# Repetition :\n",
    "# For example ,\n",
    "\n",
    "t = (1, 2, 3, 4, 5, 6, 7, 8, 9)\n",
    "print(t * 3)"
   ]
  },
  {
   "cell_type": "code",
   "execution_count": 48,
   "id": "41baef9b-d4e8-4b96-a4ab-2e27c80600ce",
   "metadata": {},
   "outputs": [
    {
     "name": "stdout",
     "output_type": "stream",
     "text": [
      "False\n"
     ]
    }
   ],
   "source": [
    "# Membership check :\n",
    "# For example ,\n",
    "\n",
    "\n",
    "print(10 in t)"
   ]
  },
  {
   "cell_type": "code",
   "execution_count": null,
   "id": "230bcfb5-024d-48d9-a15b-3e333609390e",
   "metadata": {},
   "outputs": [],
   "source": []
  }
 ],
 "metadata": {
  "kernelspec": {
   "display_name": "Python 3 (ipykernel)",
   "language": "python",
   "name": "python3"
  },
  "language_info": {
   "codemirror_mode": {
    "name": "ipython",
    "version": 3
   },
   "file_extension": ".py",
   "mimetype": "text/x-python",
   "name": "python",
   "nbconvert_exporter": "python",
   "pygments_lexer": "ipython3",
   "version": "3.12.4"
  }
 },
 "nbformat": 4,
 "nbformat_minor": 5
}
